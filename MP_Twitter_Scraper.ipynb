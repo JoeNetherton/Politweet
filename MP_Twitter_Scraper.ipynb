{
 "cells": [
  {
   "cell_type": "code",
   "execution_count": null,
   "metadata": {
    "colab": {},
    "colab_type": "code",
    "id": "NvbZAi92ceoF"
   },
   "outputs": [],
   "source": [
    "import tweepy\n",
    "from tweepy import OAuthHandler\n",
    "from tweepy import API\n",
    "from tweepy import Cursor\n",
    "from datetime import datetime, date, time, timedelta\n",
    "from collections import Counter\n",
    "import sys\n",
    "import numpy as np\n",
    "import pandas as pd"
   ]
  },
  {
   "cell_type": "code",
   "execution_count": null,
   "metadata": {
    "colab": {},
    "colab_type": "code",
    "id": "fZJZ5_EZcvJJ"
   },
   "outputs": [],
   "source": [
    "api_key = \"9EVTypgPOIkypBY6HDSSpNvPo\"\n",
    "api_secret = \"s2iBF7BMXMBP3QtSBSOSuPUrRZr2aaoGJKD1pLageTvee6LfE2\"\n",
    "access_token = \"1283009587881422856-gqJnvzrvsntuFaAOVNtk4Nqrs3mTKV\"\n",
    "access_token_secret = \"ZVwShrMnGvJ1bM55UMsbyItQRvzGyszwtIIl99dn0DtqW\"\n",
    "\n",
    "auth = OAuthHandler(api_key, api_secret)\n",
    "auth.set_access_token(access_token, access_token_secret)\n",
    "auth_api = API(auth, wait_on_rate_limit=True)"
   ]
  },
  {
   "cell_type": "code",
   "execution_count": null,
   "metadata": {
    "colab": {},
    "colab_type": "code",
    "id": "63wvzmOBdlah"
   },
   "outputs": [],
   "source": [
    "def get_all_tweets(screen_name, affiliation):\n",
    "\n",
    "    print(\"Getting Tweets of \", screen_name, \"...\")\n",
    "\n",
    "    #Twitter only allows access to a users most recent 3240 tweets with this method\n",
    "    \n",
    "    #authorize twitter, initialize tweepy\n",
    "    auth = tweepy.OAuthHandler(api_key, api_secret)\n",
    "    auth.set_access_token(access_token, access_token_secret)\n",
    "    api = tweepy.API(auth)\n",
    "    \n",
    "    #initialize a list to hold all the tweepy Tweets\n",
    "    alltweets = []  \n",
    "    \n",
    "    #make initial request for most recent tweets (200 is the maximum allowed count)\n",
    "    new_tweets = api.user_timeline(screen_name = screen_name,count=200, tweet_mode = 'extended')\n",
    "    \n",
    "    #save most recent tweets\n",
    "    alltweets.extend(new_tweets)\n",
    "    \n",
    "    #save the id of the oldest tweet less one\n",
    "    oldest = alltweets[-1].id - 1\n",
    "    \n",
    "    #keep grabbing tweets until there are no tweets left to grab\n",
    "    while len(new_tweets) > 0:\n",
    "        \n",
    "        #all subsiquent requests use the max_id param to prevent duplicates\n",
    "        new_tweets = api.user_timeline(screen_name = screen_name,count=200 ,max_id=oldest, tweet_mode = 'extended')\n",
    "        \n",
    "        #save most recent tweets\n",
    "        alltweets.extend(new_tweets)\n",
    "        \n",
    "        #update the id of the oldest tweet less one\n",
    "        oldest = alltweets[-1].id - 1\n",
    "        \n",
    "        #print(f\"...{len(alltweets)} tweets downloaded so far\")\n",
    "      \n",
    "    \n",
    "    #transform the tweepy tweets into a 2D array that will populate the csv \n",
    "    outtweets = [[tweet.created_at, tweet.full_text, affiliation] for tweet in alltweets]\n",
    "\n",
    "    return outtweets\n",
    "\n"
   ]
  },
  {
   "cell_type": "code",
   "execution_count": null,
   "metadata": {
    "colab": {},
    "colab_type": "code",
    "id": "nuPpp4JrnxcP"
   },
   "outputs": [],
   "source": [
    "# Select Dataset\n",
    "\n",
    "party = \"Labour\" # or \"SNP\" or \"Conservative\""
   ]
  },
  {
   "cell_type": "code",
   "execution_count": null,
   "metadata": {
    "colab": {
     "base_uri": "https://localhost:8080/",
     "height": 35
    },
    "colab_type": "code",
    "executionInfo": {
     "elapsed": 11325,
     "status": "ok",
     "timestamp": 1598967467983,
     "user": {
      "displayName": "Joe Netherton",
      "photoUrl": "",
      "userId": "04700075469670085746"
     },
     "user_tz": -60
    },
    "id": "H9wVkpdNfoyR",
    "outputId": "47fb9851-921c-4a9f-cb5a-4439a18e1ce8"
   },
   "outputs": [
    {
     "name": "stdout",
     "output_type": "stream",
     "text": [
      "Getting Tweets of  jeremycorbyn ...\n"
     ]
    }
   ],
   "source": [
    "#50 most followed labour,conservative and SNP MP accounts\n",
    "\n",
    "\n",
    "conservative_accounts = [\"BorisJohnson\",\"theresa_may\", \"Jacob_Rees_Mogg\", \"RishiSunak\",\n",
    "                         \"MattHancock\", \"pritipatel\", \"DominicRaab\", \"Jeremy_Hunt\", \"sajidjavid\",\n",
    "                         \"michaelgove\", \"DavidDavisMP\", \"andrealeadsom\", \"LiamFox\", \"NadineDorries\",\n",
    "                         \"grantshapps\", \"SteveBakerHW\", \"JamesCleverly\", \"trussliz\", \"johnredwood\",\n",
    "                         \"GavinWilliamson\", \"JohnnyMercerUK\", \"PennyMordaunt\", \"andreajenkyns\",\n",
    "                         \"BrandonLewis\", \"EstherMcVey1\",\n",
    "                         \"Tobias_Ellwood\", \"TomTugendhat\", \"OwenPaterson\",\n",
    "                         \"RobertJenrick\", \"Geoffrey_Cox\", \"Mike_Fabricant\", \"MPIainDS\", \"JohnPenroseNews\",\n",
    "                         \"PeterBoneUK\", \"bernardjenkin\", \"GregHands\", \"tracey_crouch\", \"AlokSharma_RDG\", \"DamianHinds\",\n",
    "                         \"ABridgen\", \"JulianSmithUK\", \"SteveBarclay\", \"halfon4harlowMP\", \"nadhimzahawi\",\n",
    "                         \"GregClarkMP\", \"DamianCollins\", \"CatherineWest1\", \"SuellaBraverman\", \"GeorgeFreemanMP\",\n",
    "                         \"JBrokenshire\"]\n",
    "\n",
    "labour_accounts = [\"jeremycorbyn\", \"Keir_Starmer\", \"Ed_Miliband\", \"DavidLammy\", \"jessphillips\",\n",
    "                   \"HackneyAbbott\", \"YvetteCooperMP\", \"johnmcdonnellMP\", \"AngelaRayner\", \"EmilyThornberry\",\n",
    "                   \"lisanandy\", \"HarrietHarman\", \"RLong_Bailey\", \"DrRosena\", \"hilarybennmp\", \"TulipSiddiq\",\n",
    "                   \"stellacreasy\", \"DawnButlerBrent\", \"RichardBurgon\", \"labourlewis\", \"leicesterliz\",\n",
    "                   \"RachelReevesMP\", \"BarryGardiner\", \"JonAshworth\", \"angelaeagle\", \"IanLaveryMP\",                   \n",
    "                   \"BenPBradshaw\", \"DanJarvisMP\", \"zarahsultana\", \"RhonddaBryant\",\"wesstreeting\",\n",
    "                   \"TanDhesi\", \"LucyMPowell\", \"Alison_McGovern\", \"TracyBrabin\", \"Debbie_abrahams\", \"NadiaWhittomeMP\",\n",
    "                   \"GwynneMP\",\"meaglemp\",\"AnnelieseDodds\",\"SarahChampionMP\", \"margarethodge\", \"jreynoldsMP\", \"NazShahBfd\",\n",
    "                   \"RupaHuq\", \"KateGreenSU\", \"ChiOnwurah\", \"LouHaigh\", \"AndyMcDonaldMP\", \"CatSmithMP\"]\n",
    "\n",
    "\n",
    "snp_accounts = [\"MhairiBlack\", \"joannaccherry\", \"Ianblackford_MP\", \"PeteWishart\", \"AlynSmith\", \"AngusMacNeilSNP\",\n",
    "                \"TommySheppard\", \"Dr_PhilippaW\", \"StewartMcDonald\", \"MrJohnNicolson\", \"StewartHosieSNP\", \"alisonthewliss\",\n",
    "                \"HannahB4LiviMP\", \"KirstySNP\", \"CMonaghanSNP\", \"ChrisLawSNP\", \"KennyMacAskill\", \"PeterGrantMP\", \"GradySNP\",\n",
    "                \"DeidreBrock\", \"ChrisStephens\", \"MargaretFerrier\", \"drewhendrySNP\", \"kirstenoswald\", \"GavNewlandsSNP\",\n",
    "                \"BrendanOHaraMP\", \"neilgraysnp\", \"DougChapmanSNP\", \"DrLisaCameronMP\", \"MartinJDocherty\", \"AnneMcLaughlin\",\n",
    "                \"PGibsonSNP\",\"AmyCallaghanSNP\", \"ronniecowan\", \"Stuart_McDonald\", \"AlanBrownSNP\", \"marionfellows\",\n",
    "                \"DavidLinden\", \"MartynDaySNP\", \"JohnMcNallySNP\", \"OwenThompson\", \"StephenFlynnSNP\", \"DaveDooganSNP\",\n",
    "                \"StevenBonnarSNP\", \"RThomsonMP\"]\n",
    "\n",
    "test_accounts = [\"jeremycorbyn\"]\n",
    "\n",
    "\n",
    "\n",
    "tweets = [] #init\n",
    "\n",
    "if __name__ == '__main__':\n",
    "\t#pass in the username of the account you want to download\n",
    "  #tweets += get_all_tweets(user, \"Liberal\")\n",
    "  if party == \"Labour\":\n",
    "    for i in labour_accounts:\n",
    "      #print(i)\n",
    "      tweets += get_all_tweets(i, party)\n",
    "\n",
    "  if party == \"Conservative\":\n",
    "    for i in conservative_accounts:\n",
    "      #print(i)\n",
    "      tweets += get_all_tweets(i, party)\n",
    "    \n",
    "if party == \"SNP\":\n",
    "  for i in snp_accounts:\n",
    "    #print(i)\n",
    "    tweets += get_all_tweets(i, party)\n",
    "\n"
   ]
  },
  {
   "cell_type": "code",
   "execution_count": null,
   "metadata": {
    "colab": {
     "base_uri": "https://localhost:8080/",
     "height": 69
    },
    "colab_type": "code",
    "executionInfo": {
     "elapsed": 525,
     "status": "ok",
     "timestamp": 1598967469562,
     "user": {
      "displayName": "Joe Netherton",
      "photoUrl": "",
      "userId": "04700075469670085746"
     },
     "user_tz": -60
    },
    "id": "QOwohNYDncL-",
    "outputId": "5157d6b6-9266-40b4-a421-a90f5b6929f8"
   },
   "outputs": [
    {
     "name": "stdout",
     "output_type": "stream",
     "text": [
      "filtered =  1110\n",
      "tweets =  3210\n",
      "1110\n"
     ]
    }
   ],
   "source": [
    "# Explore data\n",
    "\n",
    "filtered_tweets = []\n",
    "for i in range(len(tweets)):\n",
    "\n",
    "  if \"http\" not in tweets[i][1]:\n",
    "    filtered_tweets += [tweets[i]]\n",
    "\n",
    "\n",
    "print(\"filtered = \", len(filtered_tweets))\n",
    "print(\"tweets = \", len(tweets))\n",
    "\n",
    "\n",
    "#convert to dataframe\n",
    "data = pd.DataFrame(filtered_tweets)\n",
    "\n",
    "\n",
    "#Name columns\n",
    "data.columns = [\"Date\", \"Text\", \"Affiliation\"]\n",
    "\n",
    "\n",
    "\n",
    "#Count Number of Tweets for both parties\n",
    "sample_count = len(data)\n",
    "\n",
    "\n",
    "print(sample_count)\n",
    "\n"
   ]
  },
  {
   "cell_type": "code",
   "execution_count": null,
   "metadata": {
    "colab": {
     "base_uri": "https://localhost:8080/",
     "height": 52
    },
    "colab_type": "code",
    "executionInfo": {
     "elapsed": 467,
     "status": "ok",
     "timestamp": 1598967667615,
     "user": {
      "displayName": "Joe Netherton",
      "photoUrl": "",
      "userId": "04700075469670085746"
     },
     "user_tz": -60
    },
    "id": "J1pJV8aJtQvb",
    "outputId": "44fba7f6-55fb-4ca5-8056-b30958a5613e"
   },
   "outputs": [
    {
     "name": "stdout",
     "output_type": "stream",
     "text": [
      "TEST\n",
      "Upload Complete\n"
     ]
    }
   ],
   "source": [
    "#convert to .csv and save to Google Drive\n",
    "def data_to_csv(data):\n",
    "\n",
    "  if party == \"SNP\":\n",
    "    twitter_data = data.to_csv('snp_tweets.csv')\n",
    "    !cp snp_tweets.csv \"Data/\"\n",
    "\n",
    "  if party == \"Conservative\":\n",
    "    twitter_data = data.to_csv('conservative_tweets.csv')\n",
    "    !cp conservative_tweets.csv \"Data/\"\n",
    "\n",
    "  if party == \"Labour\":\n",
    "    twitter_data = data.to_csv('labour.csv')\n",
    "    !cp labour_tweets.csv \"Data/\"\n",
    "\n",
    "\n",
    "\n",
    "data_to_csv(data)\n",
    "print(\"File Saved.\")\n"
   ]
  },
  {
   "cell_type": "code",
   "execution_count": null,
   "metadata": {
    "colab": {},
    "colab_type": "code",
    "id": "jwZhyJelpDUj"
   },
   "outputs": [],
   "source": []
  }
 ],
 "metadata": {
  "colab": {
   "collapsed_sections": [],
   "name": "MP_Twitter_Scraper.ipynb",
   "provenance": []
  },
  "kernelspec": {
   "display_name": "Python 3",
   "language": "python",
   "name": "python3"
  },
  "language_info": {
   "codemirror_mode": {
    "name": "ipython",
    "version": 3
   },
   "file_extension": ".py",
   "mimetype": "text/x-python",
   "name": "python",
   "nbconvert_exporter": "python",
   "pygments_lexer": "ipython3",
   "version": "3.7.4"
  }
 },
 "nbformat": 4,
 "nbformat_minor": 1
}
